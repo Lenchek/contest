{
 "cells": [
  {
   "cell_type": "code",
   "execution_count": 81,
   "metadata": {},
   "outputs": [],
   "source": [
    "import regex as re\n",
    "from collections import Counter"
   ]
  },
  {
   "cell_type": "markdown",
   "metadata": {},
   "source": [
    "## 1. Замените в тексте знаки дюйма на парные кавычки-елочки. Кавычки в тексте всегда парные, вложенных кавычек нет. "
   ]
  },
  {
   "cell_type": "code",
   "execution_count": 146,
   "metadata": {},
   "outputs": [
    {
     "name": "stdin",
     "output_type": "stream",
     "text": [
      " Алексей Агранович — режиссер, актер театра и кино.   Он, в частности, сыграл главную роль в фильме \"Юморист\" (2019 год)   режиссера Михаила Идова. В \"Гоголь-центре\" он   сыграл две роли в \"Маленьких трагедиях\", за которые   был номинирован на театральную премию \"Золотая маска\" за лучшую мужскую роль.\n"
     ]
    }
   ],
   "source": [
    "s = input()"
   ]
  },
  {
   "cell_type": "code",
   "execution_count": 147,
   "metadata": {},
   "outputs": [
    {
     "name": "stdout",
     "output_type": "stream",
     "text": [
      "Алексей Агранович — режиссер, актер театра и кино.   Он, в частности, сыграл главную роль в фильме \"Юморист\" (2019 год)   режиссера Михаила Идова. В \"Гоголь-центре\" он   сыграл две роли в \"Маленьких трагедиях\", за которые   был номинирован на театральную премию \"Золотая маска\" за лучшую мужскую роль.\n"
     ]
    }
   ],
   "source": [
    "print(s)"
   ]
  },
  {
   "cell_type": "code",
   "execution_count": 83,
   "metadata": {},
   "outputs": [],
   "source": [
    "rx = re.compile(r'\"[^\"]*\"(*SKIP)(*FAIL)|\\s')"
   ]
  },
  {
   "cell_type": "code",
   "execution_count": 84,
   "metadata": {},
   "outputs": [
    {
     "name": "stdout",
     "output_type": "stream",
     "text": [
      "Алексей Агранович — режиссер, актер театра и кино.   Он, в частности, сыграл главную роль в фильме «Юморист» (2019 год)   режиссера Михаила Идова. В «Гоголь-центре» он   сыграл две роли в «Маленьких трагедиях», за которые   был номинирован на театральную премию «Золотая маска» за лучшую мужскую роль.\n"
     ]
    }
   ],
   "source": [
    "new_ss = []\n",
    "for word in rx.split(s):\n",
    "    new_word = word.replace('\"', '«',1).replace('\"', '»',2)\n",
    "    new_ss.append(new_word)\n",
    "    new_sss = ' '.join(new_ss)\n",
    "print(new_sss)"
   ]
  },
  {
   "cell_type": "markdown",
   "metadata": {},
   "source": [
    "## 2. Для целого числа, если в нем больше трех разрядов, используйте пробел, чтобы сгруппировать разряды по 3."
   ]
  },
  {
   "cell_type": "code",
   "execution_count": 148,
   "metadata": {},
   "outputs": [
    {
     "name": "stdin",
     "output_type": "stream",
     "text": [
      " 32746328477237481212\n"
     ]
    },
    {
     "name": "stdout",
     "output_type": "stream",
     "text": [
      "32746328477237481212\n"
     ]
    }
   ],
   "source": [
    "a = int(input())\n",
    "print(a)"
   ]
  },
  {
   "cell_type": "code",
   "execution_count": 149,
   "metadata": {},
   "outputs": [
    {
     "name": "stdout",
     "output_type": "stream",
     "text": [
      "32 746 328 477 237 481 212\n"
     ]
    }
   ],
   "source": [
    "aa = '{:_}'.format(a).replace('_', ' ')\n",
    "print(aa)"
   ]
  },
  {
   "cell_type": "markdown",
   "metadata": {},
   "source": [
    "## 3. Повторите строку столько раз, сколько в ней символов. "
   ]
  },
  {
   "cell_type": "code",
   "execution_count": 150,
   "metadata": {},
   "outputs": [
    {
     "name": "stdin",
     "output_type": "stream",
     "text": [
      " Привет, мир!\n"
     ]
    }
   ],
   "source": [
    "s = input().strip()"
   ]
  },
  {
   "cell_type": "code",
   "execution_count": 151,
   "metadata": {},
   "outputs": [
    {
     "name": "stdout",
     "output_type": "stream",
     "text": [
      "Привет, мир!\n"
     ]
    }
   ],
   "source": [
    "print(s)"
   ]
  },
  {
   "cell_type": "code",
   "execution_count": 152,
   "metadata": {},
   "outputs": [
    {
     "name": "stdout",
     "output_type": "stream",
     "text": [
      "Привет, мир!\n",
      "Привет, мир!\n",
      "Привет, мир!\n",
      "Привет, мир!\n",
      "Привет, мир!\n",
      "Привет, мир!\n",
      "Привет, мир!\n",
      "Привет, мир!\n",
      "Привет, мир!\n",
      "Привет, мир!\n",
      "Привет, мир!\n",
      "Привет, мир!\n"
     ]
    }
   ],
   "source": [
    "for i in range(len(s)):\n",
    "    print(s)"
   ]
  },
  {
   "cell_type": "markdown",
   "metadata": {},
   "source": [
    "## 4. Напишите программу, которая преобразует строку в заголовок. Части речи не учитывать: предлоги тоже преобразуются по этому правилу. \n",
    "###### Строка: Популярная блогерша и мать троих детей раскрыла секрет воспитания"
   ]
  },
  {
   "cell_type": "code",
   "execution_count": 153,
   "metadata": {},
   "outputs": [
    {
     "name": "stdin",
     "output_type": "stream",
     "text": [
      " Популярная блогерша и мать троих детей раскрыла секрет воспитания\n"
     ]
    },
    {
     "name": "stdout",
     "output_type": "stream",
     "text": [
      "Популярная Блогерша И Мать Троих Детей Раскрыла Секрет Воспитания\n"
     ]
    }
   ],
   "source": [
    "s = input().strip().title()\n",
    "print(s)"
   ]
  },
  {
   "cell_type": "markdown",
   "metadata": {},
   "source": [
    "## 5. На вход подается текст, состоящий из строк (символ-разделитель: \\n). Пронумеруйте строки, отдав под номер 4 символа. В качестве заполнителя используйте пробелы. \n",
    "\n",
    "И скучно и грустно, и некому руку подать  \n",
    "В минуту душевной невзгоды…  \n",
    "Желанья!.. что пользы напрасно и вечно желать?..  \n",
    "А годы проходят — все лучшие годы!  \n",
    " \n",
    "Любить… но кого же?.. на время — не стоит труда,  \n",
    "А вечно любить невозможно.  \n",
    "В себя ли заглянешь? — там прошлого нет и следа:  \n",
    "И радость, и муки, и всё там ничтожно…  \n",
    " \n",
    "Что страсти? — ведь рано иль поздно их сладкий недуг  \n",
    "Исчезнет при слове рассудка;  \n",
    "И жизнь, как посмотришь с холодным вниманьем вокруг —  \n",
    "Такая пустая и глупая шутка…"
   ]
  },
  {
   "cell_type": "code",
   "execution_count": 154,
   "metadata": {},
   "outputs": [
    {
     "name": "stdin",
     "output_type": "stream",
     "text": [
      " И скучно и грустно, и некому руку подать   В минуту душевной невзгоды…   Желанья!.. что пользы напрасно и вечно желать?..   А годы проходят — все лучшие годы!     Любить… но кого же?.. на время — не стоит труда,   А вечно любить невозможно.   В себя ли заглянешь? — там прошлого нет и следа:   И радость, и муки, и всё там ничтожно…     Что страсти? — ведь рано иль поздно их сладкий недуг   Исчезнет при слове рассудка;   И жизнь, как посмотришь с холодным вниманьем вокруг —   Такая пустая и глупая шутка…\n"
     ]
    }
   ],
   "source": [
    "s = input().strip()"
   ]
  },
  {
   "cell_type": "code",
   "execution_count": 155,
   "metadata": {},
   "outputs": [],
   "source": [
    "ss = re.split(r'\\s\\s', s)"
   ]
  },
  {
   "cell_type": "code",
   "execution_count": 156,
   "metadata": {},
   "outputs": [
    {
     "data": {
      "text/plain": [
       "['И скучно и грустно, и некому руку подать',\n",
       " ' В минуту душевной невзгоды…',\n",
       " ' Желанья!.. что пользы напрасно и вечно желать?..',\n",
       " ' А годы проходят — все лучшие годы!',\n",
       " '',\n",
       " ' Любить… но кого же?.. на время — не стоит труда,',\n",
       " ' А вечно любить невозможно.',\n",
       " ' В себя ли заглянешь? — там прошлого нет и следа:',\n",
       " ' И радость, и муки, и всё там ничтожно…',\n",
       " '',\n",
       " ' Что страсти? — ведь рано иль поздно их сладкий недуг',\n",
       " ' Исчезнет при слове рассудка;',\n",
       " ' И жизнь, как посмотришь с холодным вниманьем вокруг —',\n",
       " ' Такая пустая и глупая шутка…']"
      ]
     },
     "execution_count": 156,
     "metadata": {},
     "output_type": "execute_result"
    }
   ],
   "source": [
    "ss"
   ]
  },
  {
   "cell_type": "code",
   "execution_count": 157,
   "metadata": {},
   "outputs": [
    {
     "name": "stdout",
     "output_type": "stream",
     "text": [
      "1 И скучно и грустно, и некому руку подать\n",
      "2  В минуту душевной невзгоды…\n",
      "3  Желанья!.. что пользы напрасно и вечно желать?..\n",
      "4  А годы проходят — все лучшие годы!\n",
      "5 \n",
      "6  Любить… но кого же?.. на время — не стоит труда,\n",
      "7  А вечно любить невозможно.\n",
      "8  В себя ли заглянешь? — там прошлого нет и следа:\n",
      "9  И радость, и муки, и всё там ничтожно…\n",
      "10 \n",
      "11  Что страсти? — ведь рано иль поздно их сладкий недуг\n",
      "12  Исчезнет при слове рассудка;\n",
      "13  И жизнь, как посмотришь с холодным вниманьем вокруг —\n",
      "14  Такая пустая и глупая шутка…\n"
     ]
    }
   ],
   "source": [
    "for i, val in enumerate(ss, start=1):\n",
    "    print(i, val)"
   ]
  },
  {
   "cell_type": "markdown",
   "metadata": {},
   "source": [
    "## 6. Дан чек, в котором перечислены купленные товары. В каждой второй строке — целочисленная стоимость товара. Вычислите полную сумму покупки. \n",
    "Молоко МФ ТАЛИЦКИЕ паст Дерев 3,5-4%1000  \n",
    "82  \n",
    "Пакет ЛЕНТА майка 12кг  \n",
    "6  \n",
    "Хлеб СМАК Таежный ржаной 350 г  \n",
    "27  \n",
    "Сельдь МЕРИДИАН Дингли ф/к в бел вине115  \n",
    "99  \n",
    "Краб пал МИРАМАР Кл им кр мяс охл 200гр  \n",
    "72  \n",
    "Батон СМАК Подмосковный в/с нар 380г  \n",
    "33  \n",
    "Макароны BARILLA Spaghetti n.5 450г  \n",
    "86  \n",
    "Макароны BORGES Spagetti 500г  \n",
    "159  \n",
    "Салат Оливье классический лоток вес  \n",
    "81  \n",
    "Салат Свекла с чесноком лоток вес  \n",
    "85  \n",
    "Колбаса МЯСНАЯ КЛАССИКА Серв Свердл 400  \n",
    "211"
   ]
  },
  {
   "cell_type": "code",
   "execution_count": 158,
   "metadata": {},
   "outputs": [
    {
     "name": "stdin",
     "output_type": "stream",
     "text": [
      " Молоко МФ ТАЛИЦКИЕ паст Дерев 3,5-4%1000   82   Пакет ЛЕНТА майка 12кг   6   Хлеб СМАК Таежный ржаной 350 г   27   Сельдь МЕРИДИАН Дингли ф/к в бел вине115   99   Краб пал МИРАМАР Кл им кр мяс охл 200гр   72   Батон СМАК Подмосковный в/с нар 380г   33   Макароны BARILLA Spaghetti n.5 450г   86   Макароны BORGES Spagetti 500г   159   Салат Оливье классический лоток вес   81   Салат Свекла с чесноком лоток вес   85   Колбаса МЯСНАЯ КЛАССИКА Серв Свердл 400   211\n"
     ]
    }
   ],
   "source": [
    "chek = input()"
   ]
  },
  {
   "cell_type": "code",
   "execution_count": 159,
   "metadata": {},
   "outputs": [],
   "source": [
    "chek_split = re.split(r'\\s\\s', chek)"
   ]
  },
  {
   "cell_type": "code",
   "execution_count": 160,
   "metadata": {},
   "outputs": [
    {
     "name": "stdout",
     "output_type": "stream",
     "text": [
      "Сумма покупок: 941\n"
     ]
    }
   ],
   "source": [
    "list_chek = []\n",
    "for i in chek_split:\n",
    "    if i.strip().isdigit():\n",
    "        list_chek.append(int(i))\n",
    "print('Сумма покупок: {}'.format(sum(list_chek)))"
   ]
  },
  {
   "cell_type": "markdown",
   "metadata": {},
   "source": [
    "## 7. Напишите программу, которая «оборачивает» телефон в теги"
   ]
  },
  {
   "cell_type": "code",
   "execution_count": 161,
   "metadata": {},
   "outputs": [
    {
     "name": "stdin",
     "output_type": "stream",
     "text": [
      " +79012342452\n"
     ]
    },
    {
     "name": "stdout",
     "output_type": "stream",
     "text": [
      "+79012342452\n"
     ]
    }
   ],
   "source": [
    "tel = input()\n",
    "print(tel)"
   ]
  },
  {
   "cell_type": "code",
   "execution_count": 162,
   "metadata": {},
   "outputs": [
    {
     "data": {
      "text/plain": [
       "'<a href=\"tel:+79012342452\">+79012342452</a>'"
      ]
     },
     "execution_count": 162,
     "metadata": {},
     "output_type": "execute_result"
    }
   ],
   "source": [
    "#1 вариант\n",
    "href = '<a href=\"tel:%s\">%s</a>' % (tel, tel)\n",
    "href"
   ]
  },
  {
   "cell_type": "code",
   "execution_count": 163,
   "metadata": {},
   "outputs": [
    {
     "name": "stdout",
     "output_type": "stream",
     "text": [
      "<a href=\"tel:+79012342452\">+79012342452</a>\n"
     ]
    }
   ],
   "source": [
    "#2 вариант\n",
    "print(f'<a href=\"tel:{tel}\">{tel}</a>')"
   ]
  },
  {
   "cell_type": "markdown",
   "metadata": {},
   "source": [
    "## 8. Дан секвенированный геном какого-либо вируса. \n",
    "\n",
    "###### Нужно определить количество нуклеотидов a c g t в геноме в таком порядке. \n",
    "        1 accggatggc cgcgattttt tttcccgtac acgctccaaa gtaaaagtaa agtaactagt  \n",
    "       61 ggtccccgcc cactaacaaa tgtcagccaa tcagaatgaa gcctgaaagc tttcttatct  \n",
    "      121 agattttgtc tttatatact tgctcgccaa gtagttttat tgcaacatgt gggacacatt  \n",
    "      181 attgaacgag tttccagact ctgttcatgg ttttcgttgt atgctgggta taaaatatct  \n",
    "      241 gcagctttta gaagaggagt acgagcccaa tactttggga cacgatttaa ttagagatct  \n",
    "      301 catatctgtc attagggcta agaattatgt cgaagcgacc cggcgatata ataattttct  \n",
    "      361 gaggaaaatc ctagtgtttt ccgacgagtg aaggcaaaga ttgcagagga agaattcctc  \n",
    "      421 ctgaaattca aatttcaaat ttgaaatctt ggcaattgcg cctcaaacag ttgctgtcaa  \n",
    "      481 gggacccaga tgaccgcact atcttttggg tgtatggacc caccggagga gagggcaaat  \n",
    "      541 cgacatttgc ccgtgacctg tacagaagtg ggtcctggtt ctatacacgt ggaggatctg  \n",
    "      601 ctgataatgt ggcttaccag tatataggat gtttaggaaa taatatagtc tttgatatcc  \n",
    "      661 ctagggataa aaaagattat ttacaatata gtttagtaga aatgtttaag gatagattag  \n",
    "      721 tagttagtaa taagtatgaa ccgataatgg ctcctatgct taattgtatt catgtagtag  \n",
    "      781 ttatgtctaa ttttcttcca gatatggaga agattagtag tgatagggtc cgtgtaattc  \n",
    "      841 cttgtattcc ttgtggtgtt tgtcttaagc atcatgatca taatataaaa tgtgatgagt  \n",
    "      901 atttagaata aataaaatga ctgttgaatt tgatattatt taagaaaaca aggccccgca  \n",
    "      961 ggggcaatat aaaaaaatat tttgcttctt gaaaacaaga aggaatgata tgaaagaaat  \n",
    "     1021 ataagtgggt ctcgaattgc ataagcacat ggagatgagg ttcgccattc tcgtggagtt  \n",
    "     1081 ctctgcaaat tttaatatat tttttattgg ttggggtatt taatttgagt atttgttcga  \n",
    "     1141 gtgcctcttc tttggataga gagcattttg ggaaagtgag gaaataattt tttgcattta  \n",
    "     1201 taagaaattt tcgttgggta ggcatgttgg tcagaggacc cgattgactc tctattcaat  \n",
    "     1261 ctttcatatg tatcgggtcc ctgggtcctt atttatatgt gaggacctta atggcattat  \n",
    "     1321 tgtaattagg taaaagtaat acgctttaat tcaaattggt aaagcggcca tccgtataat  \n",
    "     1381 att"
   ]
  },
  {
   "cell_type": "code",
   "execution_count": 164,
   "metadata": {
    "collapsed": true,
    "jupyter": {
     "outputs_hidden": true
    }
   },
   "outputs": [
    {
     "name": "stdin",
     "output_type": "stream",
     "text": [
      "         1 accggatggc cgcgattttt tttcccgtac acgctccaaa gtaaaagtaa agtaactagt          61 ggtccccgcc cactaacaaa tgtcagccaa tcagaatgaa gcctgaaagc tttcttatct         121 agattttgtc tttatatact tgctcgccaa gtagttttat tgcaacatgt gggacacatt         181 attgaacgag tttccagact ctgttcatgg ttttcgttgt atgctgggta taaaatatct         241 gcagctttta gaagaggagt acgagcccaa tactttggga cacgatttaa ttagagatct         301 catatctgtc attagggcta agaattatgt cgaagcgacc cggcgatata ataattttct         361 gaggaaaatc ctagtgtttt ccgacgagtg aaggcaaaga ttgcagagga agaattcctc         421 ctgaaattca aatttcaaat ttgaaatctt ggcaattgcg cctcaaacag ttgctgtcaa         481 gggacccaga tgaccgcact atcttttggg tgtatggacc caccggagga gagggcaaat         541 cgacatttgc ccgtgacctg tacagaagtg ggtcctggtt ctatacacgt ggaggatctg         601 ctgataatgt ggcttaccag tatataggat gtttaggaaa taatatagtc tttgatatcc         661 ctagggataa aaaagattat ttacaatata gtttagtaga aatgtttaag gatagattag         721 tagttagtaa taagtatgaa ccgataatgg ctcctatgct taattgtatt catgtagtag         781 ttatgtctaa ttttcttcca gatatggaga agattagtag tgatagggtc cgtgtaattc         841 cttgtattcc ttgtggtgtt tgtcttaagc atcatgatca taatataaaa tgtgatgagt         901 atttagaata aataaaatga ctgttgaatt tgatattatt taagaaaaca aggccccgca         961 ggggcaatat aaaaaaatat tttgcttctt gaaaacaaga aggaatgata tgaaagaaat        1021 ataagtgggt ctcgaattgc ataagcacat ggagatgagg ttcgccattc tcgtggagtt        1081 ctctgcaaat tttaatatat tttttattgg ttggggtatt taatttgagt atttgttcga        1141 gtgcctcttc tttggataga gagcattttg ggaaagtgag gaaataattt tttgcattta        1201 taagaaattt tcgttgggta ggcatgttgg tcagaggacc cgattgactc tctattcaat        1261 ctttcatatg tatcgggtcc ctgggtcctt atttatatgt gaggacctta atggcattat        1321 tgtaattagg taaaagtaat acgctttaat tcaaattggt aaagcggcca tccgtataat        1381 att\n"
     ]
    }
   ],
   "source": [
    "s = input()"
   ]
  },
  {
   "cell_type": "code",
   "execution_count": 165,
   "metadata": {},
   "outputs": [],
   "source": [
    "ss = [i for i in s if i.isalpha()]"
   ]
  },
  {
   "cell_type": "code",
   "execution_count": 166,
   "metadata": {},
   "outputs": [
    {
     "name": "stdout",
     "output_type": "stream",
     "text": [
      "Количество нуклеотидов a c g t в геноме: [415, 212, 303, 453]\n"
     ]
    }
   ],
   "source": [
    "a = [val for val in Counter(ss).values()]\n",
    "print(f'Количество нуклеотидов a c g t в геноме: {a}')"
   ]
  },
  {
   "cell_type": "markdown",
   "metadata": {},
   "source": [
    "## 9. Дан текст с меню, \n",
    "###### в котором указана цена в долларах (всегда целое число). Перевести его по курсу $1 = 75р в рубли. Воспользуйтесь предыдущим кодом: сумму в рублях делите по группам из 3 разрядов.\n",
    "\n",
    "###### В выводе буква р - это кириллица. "
   ]
  },
  {
   "cell_type": "code",
   "execution_count": 167,
   "metadata": {},
   "outputs": [
    {
     "name": "stdin",
     "output_type": "stream",
     "text": [
      " Bigoli con ragoutd’anatra, fungo shiitake e salvia frittaBigoli   with duck ragout, shiitake mushrooms and fried sage $18     Spaghetticon pesto di topinambur e pistacchio, limone esale al timo   Spaghetti with topiambur and pistachios pesto sauce $17\n"
     ]
    },
    {
     "name": "stdout",
     "output_type": "stream",
     "text": [
      "Bigoli con ragoutd’anatra, fungo shiitake e salvia frittaBigoli   with duck ragout, shiitake mushrooms and fried sage $18     Spaghetticon pesto di topinambur e pistacchio, limone esale al timo   Spaghetti with topiambur and pistachios pesto sauce $17\n"
     ]
    }
   ],
   "source": [
    "s = input()\n",
    "print(s)"
   ]
  },
  {
   "cell_type": "code",
   "execution_count": 168,
   "metadata": {},
   "outputs": [],
   "source": [
    "ss = re.split(r'\\s', s)"
   ]
  },
  {
   "cell_type": "code",
   "execution_count": 169,
   "metadata": {},
   "outputs": [
    {
     "name": "stdout",
     "output_type": "stream",
     "text": [
      "['Bigoli', 'con', 'ragoutd’anatra,', 'fungo', 'shiitake', 'e', 'salvia', 'frittaBigoli', '', '', 'with', 'duck', 'ragout,', 'shiitake', 'mushrooms', 'and', 'fried', 'sage', '$18', '', '', '', '', 'Spaghetticon', 'pesto', 'di', 'topinambur', 'e', 'pistacchio,', 'limone', 'esale', 'al', 'timo', '', '', 'Spaghetti', 'with', 'topiambur', 'and', 'pistachios', 'pesto', 'sauce', '$17']\n"
     ]
    }
   ],
   "source": [
    "print(ss)"
   ]
  },
  {
   "cell_type": "code",
   "execution_count": 170,
   "metadata": {},
   "outputs": [],
   "source": [
    "#change prices in dollars to rubles\n",
    "price_new = []\n",
    "for string in ss:\n",
    "    if string.startswith('$'):\n",
    "        string_ = string.replace('$', '')\n",
    "        number = int(string_)*75\n",
    "        number_ = '{:_}р'.format(number).replace('_', ' ')\n",
    "        price_new.append(number_)\n",
    "    else:\n",
    "        price_new.append(string)\n",
    "price_new_new = ' '.join(price_new)"
   ]
  },
  {
   "cell_type": "code",
   "execution_count": 171,
   "metadata": {},
   "outputs": [
    {
     "name": "stdout",
     "output_type": "stream",
     "text": [
      "Bigoli con ragoutd’anatra, fungo shiitake e salvia frittaBigoli   with duck ragout, shiitake mushrooms and fried sage 1 350р     Spaghetticon pesto di topinambur e pistacchio, limone esale al timo   Spaghetti with topiambur and pistachios pesto sauce 1 275р\n"
     ]
    }
   ],
   "source": [
    "print(price_new_new)"
   ]
  },
  {
   "cell_type": "markdown",
   "metadata": {},
   "source": [
    "## 10. Напишите программу, которая для заданного штрих-кода говорит, правильный он (yes) или нет (no)\n",
    "###### Например, вот мой кетчуп. Код у него — 4604075024433. На нечетных местах: 4, 0, 0, 5, 2, 4, 3. На четных: 6, 4, 7, 0, 4, 3. Если мы сложим первую сумму с утроенной второй получится 90. Значит, это корректный штрих-код. "
   ]
  },
  {
   "cell_type": "code",
   "execution_count": 172,
   "metadata": {},
   "outputs": [
    {
     "name": "stdin",
     "output_type": "stream",
     "text": [
      " 4604075024433\n"
     ]
    },
    {
     "name": "stdout",
     "output_type": "stream",
     "text": [
      "4604075024433\n"
     ]
    }
   ],
   "source": [
    "w = input().strip()\n",
    "print(w)"
   ]
  },
  {
   "cell_type": "code",
   "execution_count": 173,
   "metadata": {},
   "outputs": [],
   "source": [
    "#find eval and uneval numbers' indexes\n",
    "w_eval = [i for i in w[1::2]]\n",
    "w_uneval = [i for i in w[0::2]]"
   ]
  },
  {
   "cell_type": "code",
   "execution_count": 174,
   "metadata": {},
   "outputs": [
    {
     "name": "stdout",
     "output_type": "stream",
     "text": [
      "['4', '0', '0', '5', '2', '4', '3']\n",
      "['6', '4', '7', '0', '4', '3']\n"
     ]
    }
   ],
   "source": [
    "print(w_uneval)\n",
    "print(w_eval)"
   ]
  },
  {
   "cell_type": "code",
   "execution_count": 177,
   "metadata": {},
   "outputs": [
    {
     "name": "stdout",
     "output_type": "stream",
     "text": [
      "90\n"
     ]
    }
   ],
   "source": [
    "#make sum of all eval and uneval numbers' indexes\n",
    "res = sum(int(i) for i in w_uneval) + \\\n",
    "(sum(int(i) for i in w_eval))*3\n",
    "print(res)"
   ]
  },
  {
   "cell_type": "code",
   "execution_count": 178,
   "metadata": {},
   "outputs": [
    {
     "name": "stdout",
     "output_type": "stream",
     "text": [
      "yes\n"
     ]
    }
   ],
   "source": [
    "#chek the sum\n",
    "if res % 10 == 0:\n",
    "    print('yes')\n",
    "else:\n",
    "    print('no')"
   ]
  },
  {
   "cell_type": "markdown",
   "metadata": {},
   "source": [
    "## 11. Напишите в порядке возрастания все делители числа, кроме 1 и его самого. Возможно, у вас будет ошибка лимита по времени, попытайтесь немного оптимизировать программу. "
   ]
  },
  {
   "cell_type": "code",
   "execution_count": 185,
   "metadata": {},
   "outputs": [
    {
     "name": "stdin",
     "output_type": "stream",
     "text": [
      " 500\n"
     ]
    },
    {
     "name": "stdout",
     "output_type": "stream",
     "text": [
      "500\n"
     ]
    }
   ],
   "source": [
    "a = int(input())\n",
    "print(a)"
   ]
  },
  {
   "cell_type": "code",
   "execution_count": 186,
   "metadata": {},
   "outputs": [],
   "source": [
    "aa = [i for i in range(2,a) if a%i == 0]"
   ]
  },
  {
   "cell_type": "code",
   "execution_count": 187,
   "metadata": {},
   "outputs": [
    {
     "name": "stdout",
     "output_type": "stream",
     "text": [
      "[2, 4, 5, 10, 20, 25, 50, 100, 125, 250]\n"
     ]
    }
   ],
   "source": [
    "print(aa)"
   ]
  },
  {
   "cell_type": "markdown",
   "metadata": {},
   "source": [
    "## 12. Напишите программу, которая умеет склонять с любыми числительными слово «комментарий». "
   ]
  },
  {
   "cell_type": "code",
   "execution_count": 188,
   "metadata": {},
   "outputs": [
    {
     "name": "stdin",
     "output_type": "stream",
     "text": [
      " 1345981346\n"
     ]
    }
   ],
   "source": [
    "d = input()"
   ]
  },
  {
   "cell_type": "code",
   "execution_count": 189,
   "metadata": {},
   "outputs": [],
   "source": [
    "#make lists with appropriate endings to nouns\n",
    "ev = list(str(i) for i in range(5,20))+\\\n",
    "list('0')\n",
    "ya = list(str(i) for i in range(2,5))"
   ]
  },
  {
   "cell_type": "code",
   "execution_count": 190,
   "metadata": {},
   "outputs": [
    {
     "name": "stdout",
     "output_type": "stream",
     "text": [
      "['5', '6', '7', '8', '9', '10', '11', '12', '13', '14', '15', '16', '17', '18', '19', '0']\n",
      "['2', '3', '4']\n"
     ]
    }
   ],
   "source": [
    "print(ev)\n",
    "print(ya)"
   ]
  },
  {
   "cell_type": "code",
   "execution_count": 191,
   "metadata": {},
   "outputs": [
    {
     "name": "stdout",
     "output_type": "stream",
     "text": [
      "1345981346 комментариев\n"
     ]
    }
   ],
   "source": [
    "if d.endswith(tuple(ev)):\n",
    "    print(f'{d} комментариев')\n",
    "elif d.endswith(tuple(ya)):\n",
    "    print(f'{d} комментария')\n",
    "else:\n",
    "    print(f'{d} комментарий')"
   ]
  },
  {
   "cell_type": "code",
   "execution_count": null,
   "metadata": {},
   "outputs": [],
   "source": []
  }
 ],
 "metadata": {
  "kernelspec": {
   "display_name": "Python 3",
   "language": "python",
   "name": "python3"
  },
  "language_info": {
   "codemirror_mode": {
    "name": "ipython",
    "version": 3
   },
   "file_extension": ".py",
   "mimetype": "text/x-python",
   "name": "python",
   "nbconvert_exporter": "python",
   "pygments_lexer": "ipython3",
   "version": "3.8.2"
  }
 },
 "nbformat": 4,
 "nbformat_minor": 4
}
